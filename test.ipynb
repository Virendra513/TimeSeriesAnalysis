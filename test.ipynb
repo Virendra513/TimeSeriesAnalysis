{
 "cells": [
  {
   "cell_type": "code",
   "execution_count": 3,
   "id": "fe2f88e7",
   "metadata": {},
   "outputs": [
    {
     "name": "stdout",
     "output_type": "stream",
     "text": [
      "Number of matching points: 0\n"
     ]
    }
   ],
   "source": [
    "import pandas as pd\n",
    "\n",
    "# Load CSV files\n",
    "df1 = pd.read_csv(r\"C:\\z\\protein_smiles_sequences.csv\")  # has Smiles, Protein_FASTA_Sequence\n",
    "df2 = pd.read_csv(r\"C:\\z\\BDB_409715_3049.csv\")  # has X1, X2\n",
    "\n",
    "# Merge on matching columns\n",
    "merged = pd.merge(df1, df2, left_on=['Smiles', 'Protein_FASTA_Sequence'],\n",
    "                  right_on=['X1', 'X2'], how='inner')\n",
    "\n",
    "# Number of matching points\n",
    "num_matches = len(merged)\n",
    "print(f\"Number of matching points: {num_matches}\")\n"
   ]
  }
 ],
 "metadata": {
  "kernelspec": {
   "display_name": "Python 3",
   "language": "python",
   "name": "python3"
  },
  "language_info": {
   "codemirror_mode": {
    "name": "ipython",
    "version": 3
   },
   "file_extension": ".py",
   "mimetype": "text/x-python",
   "name": "python",
   "nbconvert_exporter": "python",
   "pygments_lexer": "ipython3",
   "version": "3.11.0"
  }
 },
 "nbformat": 4,
 "nbformat_minor": 5
}
